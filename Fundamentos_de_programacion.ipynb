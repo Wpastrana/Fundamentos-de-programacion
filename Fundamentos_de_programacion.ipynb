{
  "nbformat": 4,
  "nbformat_minor": 0,
  "metadata": {
    "colab": {
      "provenance": []
    },
    "kernelspec": {
      "name": "python3",
      "display_name": "Python 3"
    },
    "language_info": {
      "name": "python"
    }
  },
  "cells": [
    {
      "cell_type": "code",
      "execution_count": null,
      "metadata": {
        "id": "d0t84WOOd_jG"
      },
      "outputs": [],
      "source": [
        "Nombre = input (\"Digite su nombre: \")\n",
        "print (Nombre)\n",
        "\n",
        "Apellido = input (\"digite su apellido: \")\n",
        "print (Apellido)\n",
        "\n",
        "Cedula = int( input (\"Digite su numero de cedula: \"))\n",
        "print (Cedula)\n",
        "\n",
        "Direccion = input (\"Ingrese su direccion: \")\n",
        "print (Direccion)\n",
        "\n",
        "Telefono = int (input (\"Digite su numero telefonico: \"))\n",
        "print (Telefono)\n",
        "\n",
        "Edad = int(input (\"Digite su edad: \"))\n",
        "print (Edad)\n",
        "\n",
        "Estadocivil = input (\"Su estado civil es: \")\n",
        "print (Estadocivil)\n",
        "\n",
        "Hijos = int (input (\"Cuantos hijos tiene: \"))\n",
        "print (Hijos)\n",
        "\n",
        "Estatura = int(input (\"Ingrese su estatura en centimetros: \"))\n",
        "print (Estatura)\n",
        "\n",
        "Contratación = int(input (\"Ingrese la fecha de contratación DDMMAA: \"))\n",
        "print (Contratación)\n",
        "\n",
        "Sueldo = float (input (\"Ingrese su sueldo basico: $ \"))\n",
        "print (Sueldo)\n",
        "\n",
        "Laborado = int (input (\"Cuantos dias laboro: \"))\n",
        "print (Laborado)\n",
        "\n",
        "\n",
        "if Edad > 55:\n",
        "  bono = Sueldo * 0.05\n",
        "  total = Sueldo + bono\n",
        "  print (\"el bono equivalente al 5% es de: $ {:,.0f} y el total es: $ {:,.0f}\". format(bono, total))\n",
        "else:\n",
        "  print (f\"no tiene derecho a bono, el pago es: {Sueldo:,.0f}\")\n",
        "\n",
        "\n",
        "if Estadocivil == \"casado\" and Hijos >= 1:\n",
        "  print (\"Gano beneficio de un paseo cada Diciembre!!!\")\n",
        "else:\n",
        "  print (\"No gano beneficio del paseo\")\n",
        "\n",
        "\n",
        "if Sueldo >= 1000000 and Sueldo <= 1500000:\n",
        "  comision = Sueldo * 0.02\n",
        "  total = Sueldo + comision\n",
        "  print (\"La comision que gano es de: $ {:,.0f} y el total es: $ {:,.0f}\".format(comision, total))\n",
        "elif Sueldo >= 1500001 and Sueldo <= 2000000:\n",
        "  comision = Sueldo * 0.05\n",
        "  total = Sueldo + comision\n",
        "  print (\"La comision que gano es de: ${:,.0f} y el total es: $ {:,.0f}\".format(comision,total))\n",
        "else:\n",
        "  print (\"No gano ninguna comision\")\n",
        "  \n",
        "\n",
        "if Laborado > 20 and Sueldo < 1000000:\n",
        "  bonoA = Sueldo * 0.10\n",
        "  total = Sueldo + bonoA\n",
        "  print (\"Tiene derecho aun bono alimenticio del 10% que equivale a: $ {:,.0f} y el total es: {:,.0f}\".format(bonoA, total))\n",
        "else:\n",
        "  print(\"No tiene derecho al bono alimenticio\")\n",
        "\n",
        "\n"
      ]
    },
    {
      "cell_type": "markdown",
      "source": [
        "un vendedor recibe un sueldo base mas un 10% extra por comision de sus ventas, el vendedor desea saber cuanto dinero obtedra por concepto de comisiones por las tres ventas que realiza en el mes y el total que recibira en el mes tomando en cuenta su sueldo base y comisiones."
      ],
      "metadata": {
        "id": "X1-pRqz37PUo"
      }
    },
    {
      "cell_type": "code",
      "source": [
        "sueldo= float(input (\"Cuanto es su sueldo: $ \"))\n",
        "comision = sueldo * 0.30\n",
        "sueldototal = sueldo + comision\n",
        "print(\"La comision ganada es: ${:,.0f} y el sueldo total es: ${:,.0f}\".format(comision, sueldototal))\n",
        "\n"
      ],
      "metadata": {
        "id": "AwIycOaX4kaI"
      },
      "execution_count": null,
      "outputs": []
    },
    {
      "cell_type": "markdown",
      "source": [
        "Una tienda ofrece un descuento del 15% sobre el total de la compra y un cliente desea saber cuanto debera pagar finalmente por su compra."
      ],
      "metadata": {
        "id": "g2sU4vi_8GFu"
      }
    },
    {
      "cell_type": "code",
      "source": [
        "compra= float(input(\"¿Cuanto fue el valor de la compra?: \"))\n",
        "descuento = compra * 0.15\n",
        "total = compra - descuento\n",
        "print(\"el descuento es: ${:,.0f} y el total de la compra es: ${:,.0f}\".format(descuento, total))\n"
      ],
      "metadata": {
        "id": "o01Aacjh5wNA"
      },
      "execution_count": null,
      "outputs": []
    },
    {
      "cell_type": "markdown",
      "source": [
        "Un alumno desea saber cual sera su calificacion final en la materia de algoritmos. dicha calificacion se compone de tres examenes parciales."
      ],
      "metadata": {
        "id": "zhRTK6Hw8Yge"
      }
    },
    {
      "cell_type": "code",
      "source": [
        "exam1= float (input(\"Digite la calificacion del examen 1: \"))\n",
        "exam2= float (input(\"Digite la calificacion del examen 2: \"))\n",
        "exam3= float (input(\"Digite la calificacion del examen 3: \"))\n",
        "\n",
        "calificacion = round((exam1 + exam2 + exam3)/3, 2)\n",
        "\n",
        "print (f\"La calificacion final de la materia de algoritmos es: {calificacion}\")"
      ],
      "metadata": {
        "id": "RTdqW22j6GQf"
      },
      "execution_count": null,
      "outputs": []
    },
    {
      "cell_type": "markdown",
      "source": [
        "Un maestro desea saber que porcentaje de hombres y que porcentaje de mujeres hay en un grupo de estudiantes."
      ],
      "metadata": {
        "id": "6typ1uJm8nnn"
      }
    },
    {
      "cell_type": "code",
      "source": [
        "women = float(input(\"Cuantas mujeras hay: \"))\n",
        "men = float(input (\"cuantos hombres hay: \"))\n",
        "totalalumnos = women + men\n",
        "print(f\"el total de alumnos es:{totalalumnos} \")\n",
        "\n",
        "pwomen= (women/totalalumnos)*100\n",
        "pmen= (men / totalalumnos)*100\n",
        "\n",
        "print (\"el porcentaje de mujeres es: {:,.0f}% y el porcentaje de hombre es: {:,.0f}%\".format(pwomen, pmen))\n"
      ],
      "metadata": {
        "id": "AtBAJgBk6Zn-"
      },
      "execution_count": null,
      "outputs": []
    },
    {
      "cell_type": "markdown",
      "source": [
        "crear un bucle que cuente todos los numeros pares hasta el 100, ciclo for"
      ],
      "metadata": {
        "id": "Ou9X1_qPZG3d"
      }
    },
    {
      "cell_type": "code",
      "source": [
        "for i in range (0 , 101, 2):\n",
        "  print(i)"
      ],
      "metadata": {
        "id": "0k1tIkpKZF-t"
      },
      "execution_count": null,
      "outputs": []
    },
    {
      "cell_type": "markdown",
      "source": [
        "haz una tabla de multiplicar utilzando el ciclo for\n"
      ],
      "metadata": {
        "id": "0-TkWmMCZqtU"
      }
    },
    {
      "cell_type": "code",
      "source": [
        "num = int (input (\"Escriba el numero de la tabla de multiplicar que necesite: \"))\n",
        "for i in range (11):\n",
        "  print (i, \"x\", num, \"=\", i * num)"
      ],
      "metadata": {
        "id": "CkUgyd2qZyLz"
      },
      "execution_count": null,
      "outputs": []
    },
    {
      "cell_type": "markdown",
      "source": [
        "escribir un programa que pregunte al usuario su edad y muestre por pantalla todos los años que a cumplido (desde 1 hasta su edad). ciclo for"
      ],
      "metadata": {
        "id": "FJ9aoyPHZy0V"
      }
    },
    {
      "cell_type": "code",
      "source": [
        "edad = int(input(\"Ingrese su edad: \"))\n",
        "\n",
        "for i in range(edad):\n",
        "    print (i + 1)"
      ],
      "metadata": {
        "id": "6MOaNxHgaQQD"
      },
      "execution_count": null,
      "outputs": []
    },
    {
      "cell_type": "markdown",
      "source": [
        "escribir un programa que pida al usuario un numero entero positivo y muestre por pantalla todos los numeros impares desde 1 hasta ese numero separado por comas."
      ],
      "metadata": {
        "id": "y6PIWqvGaQ68"
      }
    },
    {
      "cell_type": "code",
      "source": [
        "numero = int(input(\"Digite un número entero positivo: \"))\n",
        "\n",
        "for i in range (1, numero+1, 2):\n",
        "    print(i, end=\", \")"
      ],
      "metadata": {
        "id": "naJqA9y3alDc"
      },
      "execution_count": null,
      "outputs": []
    },
    {
      "cell_type": "markdown",
      "source": [
        "encuentra la suma de todos los numeros pares del 1 al 100, ciclo for"
      ],
      "metadata": {
        "id": "tg5Ra13ialdj"
      }
    },
    {
      "cell_type": "code",
      "source": [
        "# variable acumuladora\n",
        "acu= 0\n",
        "for i in range(0,101,2):\n",
        " # print(i)\n",
        " acu = acu + i\n",
        "print (f\"la suma total de los numeros pares del 0 - 100: {acu}\")"
      ],
      "metadata": {
        "id": "QmcG6TCiat4U"
      },
      "execution_count": null,
      "outputs": []
    }
  ]
}